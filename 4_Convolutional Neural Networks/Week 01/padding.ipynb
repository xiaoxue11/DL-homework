{
 "cells": [
  {
   "cell_type": "code",
   "execution_count": 1,
   "metadata": {},
   "outputs": [],
   "source": [
    "import numpy as np"
   ]
  },
  {
   "cell_type": "code",
   "execution_count": 18,
   "metadata": {},
   "outputs": [],
   "source": [
    "arr1D=np.array([1,2,3,4,5,6])"
   ]
  },
  {
   "cell_type": "markdown",
   "metadata": {},
   "source": [
    "参数的意义：第一个参数是待填充的数组，第二个参数是填充到边缘的数目，第三个参数是填充方式"
   ]
  },
  {
   "cell_type": "markdown",
   "metadata": {},
   "source": [
    "constant:常数填充方式，默认为0，constant_values=(a, b)表示前面边界填充a,后面边界填充b"
   ]
  },
  {
   "cell_type": "code",
   "execution_count": 19,
   "metadata": {},
   "outputs": [
    {
     "name": "stdout",
     "output_type": "stream",
     "text": [
      "constant:[0 0 1 2 3 4 5 6 0 0 0]\n",
      "constant:[4 4 1 2 3 4 5 6 7 7 7]\n"
     ]
    }
   ],
   "source": [
    "print('constant:'+str(np.pad(arr1D,(2,3),'constant')))\n",
    "print('constant:'+str(np.pad(arr1D,(2,3),'constant',constant_values=(4, 7))))"
   ]
  },
  {
   "cell_type": "markdown",
   "metadata": {},
   "source": [
    "edge:边缘值填充"
   ]
  },
  {
   "cell_type": "code",
   "execution_count": 7,
   "metadata": {},
   "outputs": [
    {
     "name": "stdout",
     "output_type": "stream",
     "text": [
      "edge:[1 1 1 2 3 4 5 6 6 6 6]\n"
     ]
    }
   ],
   "source": [
    "print('edge:'+str(np.pad(arr1D,(2,3),'edge')))"
   ]
  },
  {
   "cell_type": "markdown",
   "metadata": {},
   "source": [
    "maximun:最大值填充,minimum:最小值，mean:平均值，median:中位数"
   ]
  },
  {
   "cell_type": "code",
   "execution_count": 24,
   "metadata": {},
   "outputs": [
    {
     "name": "stdout",
     "output_type": "stream",
     "text": [
      "maximum:[6 6 1 2 3 4 5 6 6 6 6]\n",
      "minimun:[1 1 1 2 3 4 5 6 1 1 1]\n",
      "mean:[4 4 1 2 3 4 5 6 4 4 4]\n",
      "median:[4 4 1 2 3 4 5 6 4 4 4]\n"
     ]
    }
   ],
   "source": [
    "print('maximum:'+str(np.pad(arr1D,(2,3),'maximum')))\n",
    "print('minimun:'+str(np.pad(arr1D,(2,3),'minimum')))\n",
    "print('mean:'+str(np.pad(arr1D,(2,3),'mean')))\n",
    "print('median:'+str(np.pad(arr1D,(2,3),'median')))"
   ]
  },
  {
   "cell_type": "markdown",
   "metadata": {},
   "source": [
    "reflect:边缘对称填充,填充数据从边缘的下一个开始；symmetric:对称填充，从边缘值开始"
   ]
  },
  {
   "cell_type": "code",
   "execution_count": 4,
   "metadata": {},
   "outputs": [],
   "source": [
    "arr2=np.array([3,5,7,8])"
   ]
  },
  {
   "cell_type": "code",
   "execution_count": 33,
   "metadata": {},
   "outputs": [
    {
     "name": "stdout",
     "output_type": "stream",
     "text": [
      "reflect:[7 5 3 5 7 8 7 5 3 5]\n",
      "symmetric:[5 3 3 5 7 8 8 7 5]\n"
     ]
    }
   ],
   "source": [
    "print('reflect:'+str(np.pad(arr2,(2,4),'reflect')))\n",
    "print('symmetric:'+str(np.pad(arr2,(2,3),'symmetric')))"
   ]
  },
  {
   "cell_type": "markdown",
   "metadata": {},
   "source": [
    "linear_ramp:边缘递减的方式填充数据"
   ]
  },
  {
   "cell_type": "code",
   "execution_count": 11,
   "metadata": {},
   "outputs": [
    {
     "name": "stdout",
     "output_type": "stream",
     "text": [
      "linear_ramp:[0 2 3 5 7 8 5 3 0]\n",
      "linear_ramp:[1 2 3 5 7 8 6 5 3]\n"
     ]
    }
   ],
   "source": [
    "print('linear_ramp:'+str(np.pad(arr2,(2,3),'linear_ramp')))\n",
    "print('linear_ramp:'+str(np.pad(arr2,(2,3),'linear_ramp',end_values=(1,3))))"
   ]
  },
  {
   "cell_type": "markdown",
   "metadata": {},
   "source": [
    "二维数组填充"
   ]
  },
  {
   "cell_type": "code",
   "execution_count": 2,
   "metadata": {},
   "outputs": [],
   "source": [
    "arr2D=np.arange(1,5).reshape(2,2)"
   ]
  },
  {
   "cell_type": "code",
   "execution_count": 3,
   "metadata": {},
   "outputs": [
    {
     "data": {
      "text/plain": [
       "array([[1, 2],\n",
       "       [3, 4]])"
      ]
     },
     "execution_count": 3,
     "metadata": {},
     "output_type": "execute_result"
    }
   ],
   "source": [
    "arr2D"
   ]
  },
  {
   "cell_type": "code",
   "execution_count": 15,
   "metadata": {},
   "outputs": [
    {
     "name": "stdout",
     "output_type": "stream",
     "text": [
      "2D array:[[0 0 0 0 0]\n",
      " [0 1 2 0 0]\n",
      " [0 3 4 0 0]\n",
      " [0 0 0 0 0]]\n"
     ]
    }
   ],
   "source": [
    "print('2D array:'+str(np.pad(arr2D,((1,1),(1,2)),'constant')))"
   ]
  },
  {
   "cell_type": "markdown",
   "metadata": {},
   "source": [
    "3维数组填充"
   ]
  },
  {
   "cell_type": "code",
   "execution_count": 16,
   "metadata": {},
   "outputs": [],
   "source": [
    "arr3D=np.array([[[1, 1, 2, 2, 3, 4], [1, 1, 2, 2, 3, 4], [1, 1, 2, 2, 3, 4]], \n",
    "                  [[0, 1, 2, 3, 4, 5], [0, 1, 2, 3, 4, 5], [0, 1, 2, 3, 4, 5]], \n",
    "                  [[1, 1, 2, 2, 3, 4], [1, 1, 2, 2, 3, 4], [1, 1, 2, 2, 3, 4]]])"
   ]
  },
  {
   "cell_type": "code",
   "execution_count": 21,
   "metadata": {},
   "outputs": [
    {
     "name": "stdout",
     "output_type": "stream",
     "text": [
      "arr3D:[[[0 0 0 0 0 0 0 0 0 0]\n",
      "  [0 0 0 0 0 0 0 0 0 0]\n",
      "  [0 0 1 1 2 2 3 4 0 0]\n",
      "  [0 0 1 1 2 2 3 4 0 0]\n",
      "  [0 0 1 1 2 2 3 4 0 0]\n",
      "  [0 0 0 0 0 0 0 0 0 0]\n",
      "  [0 0 0 0 0 0 0 0 0 0]]\n",
      "\n",
      " [[0 0 0 0 0 0 0 0 0 0]\n",
      "  [0 0 0 0 0 0 0 0 0 0]\n",
      "  [0 0 0 1 2 3 4 5 0 0]\n",
      "  [0 0 0 1 2 3 4 5 0 0]\n",
      "  [0 0 0 1 2 3 4 5 0 0]\n",
      "  [0 0 0 0 0 0 0 0 0 0]\n",
      "  [0 0 0 0 0 0 0 0 0 0]]\n",
      "\n",
      " [[0 0 0 0 0 0 0 0 0 0]\n",
      "  [0 0 0 0 0 0 0 0 0 0]\n",
      "  [0 0 1 1 2 2 3 4 0 0]\n",
      "  [0 0 1 1 2 2 3 4 0 0]\n",
      "  [0 0 1 1 2 2 3 4 0 0]\n",
      "  [0 0 0 0 0 0 0 0 0 0]\n",
      "  [0 0 0 0 0 0 0 0 0 0]]]\n"
     ]
    }
   ],
   "source": [
    "print('arr3D:'+str(np.pad(arr3D,((0,0),(2,2),(2,2)),'constant')))"
   ]
  }
 ],
 "metadata": {
  "kernelspec": {
   "display_name": "Python 3",
   "language": "python",
   "name": "python3"
  },
  "language_info": {
   "codemirror_mode": {
    "name": "ipython",
    "version": 3
   },
   "file_extension": ".py",
   "mimetype": "text/x-python",
   "name": "python",
   "nbconvert_exporter": "python",
   "pygments_lexer": "ipython3",
   "version": "3.6.8"
  }
 },
 "nbformat": 4,
 "nbformat_minor": 2
}
